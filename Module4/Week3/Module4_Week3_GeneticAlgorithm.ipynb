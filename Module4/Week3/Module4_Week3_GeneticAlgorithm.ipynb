{
 "cells": [
  {
   "cell_type": "code",
   "execution_count": 1,
   "metadata": {},
   "outputs": [
    {
     "name": "stdout",
     "output_type": "stream",
     "text": [
      "[[  1.  230.1  37.8  69.2]\n",
      " [  1.   44.5  39.3  45.1]\n",
      " [  1.   17.2  45.9  69.3]\n",
      " [  1.  151.5  41.3  58.5]\n",
      " [  1.  180.8  10.8  58.4]]\n"
     ]
    },
    {
     "data": {
      "text/plain": [
       "(200,)"
      ]
     },
     "execution_count": 1,
     "metadata": {},
     "output_type": "execute_result"
    }
   ],
   "source": [
    "import numpy as np\n",
    "import matplotlib.pyplot as plt\n",
    "import random\n",
    "\n",
    "random.seed(0)\n",
    "%matplotlib inline\n",
    "\n",
    "def load_data_from_file(fileName = 'advertising.csv'):\n",
    "    data = np.genfromtxt(fileName, dtype=None, delimiter=',', skip_header=1)\n",
    "    features_X = data[:, :3]\n",
    "    sales_y = data[:, 3]\n",
    "\n",
    "    features_X = np.insert(features_X, 0, 1, axis=1)\n",
    "    \n",
    "    return features_X, sales_y\n",
    "\n",
    "\n",
    "features_X, sales_y = load_data_from_file()\n",
    "print(features_X[:5,:])\n",
    "sales_y.shape"
   ]
  },
  {
   "cell_type": "code",
   "execution_count": 2,
   "metadata": {},
   "outputs": [
    {
     "data": {
      "text/plain": [
       "[3.4442185152504816,\n",
       " 2.5795440294030243,\n",
       " -0.79428419169155,\n",
       " -2.4108324970703663]"
      ]
     },
     "execution_count": 2,
     "metadata": {},
     "output_type": "execute_result"
    }
   ],
   "source": [
    "def create_individual(n=4, bound=10):\n",
    "    individual = []\n",
    "    for i in range(n):\n",
    "        individual.append(random.uniform(-bound/2, bound/2))\n",
    "\n",
    "    return individual\n",
    "\n",
    "individual = create_individual()\n",
    "individual"
   ]
  },
  {
   "cell_type": "code",
   "execution_count": 3,
   "metadata": {},
   "outputs": [],
   "source": [
    "def compile_loss(individual):\n",
    "    theta = np.array(individual)\n",
    "    y_hat = features_X.dot(theta)\n",
    "    loss = np.mean((y_hat - sales_y)**2)\n",
    "    return loss\n",
    "\n",
    "def compute_fitness(individual):\n",
    "    loss = compile_loss(individual)\n",
    "    fitness_value = 1/(1+loss)\n",
    "    return fitness_value"
   ]
  },
  {
   "cell_type": "code",
   "execution_count": 4,
   "metadata": {},
   "outputs": [
    {
     "name": "stdout",
     "output_type": "stream",
     "text": [
      "1.0185991537088997e-06\n"
     ]
    }
   ],
   "source": [
    "features_X, sales_Y = load_data_from_file()\n",
    "individual = [4.09, 4.82, 3.10, 4.02]\n",
    "fitness_score = compute_fitness(individual)\n",
    "print(fitness_score)"
   ]
  },
  {
   "cell_type": "code",
   "execution_count": 8,
   "metadata": {},
   "outputs": [],
   "source": [
    "def crossover(individual1, individual2, crossover_rate=0.9):\n",
    "    individual1_new = individual1.copy()\n",
    "    individual2_new = individual2.copy()\n",
    "\n",
    "    for i in range(len(individual1)):\n",
    "        if random.random() < crossover_rate:\n",
    "            individual1_new[i] = individual2[i]\n",
    "            individual2_new[i] = individual1[i] \n",
    "\n",
    "    return individual1_new, individual2_new\n"
   ]
  },
  {
   "cell_type": "code",
   "execution_count": 20,
   "metadata": {},
   "outputs": [
    {
     "name": "stdout",
     "output_type": "stream",
     "text": [
      "individual1:  [3.44, 2.57, -0.79, -2.41]\n",
      "individual2:  [4.09, 4.82, 3.1, 4.02]\n"
     ]
    }
   ],
   "source": [
    "individual1 = [4.09, 4.82, 3.10, 4.02]\n",
    "individual2 = [3.44, 2.57, -0.79, -2.41]\n",
    "\n",
    "individual1, individual2 = crossover(individual1, individual2, 2.0)\n",
    "print(\"individual1: \", individual1)\n",
    "print(\"individual2: \", individual2)"
   ]
  },
  {
   "cell_type": "code",
   "execution_count": null,
   "metadata": {},
   "outputs": [],
   "source": [
    "def mutate(individual, mutation_rate=0.05):\n",
    "    individual_m = individual.copy()\n",
    "    \n",
    "\n",
    "    return individual_m"
   ]
  },
  {
   "cell_type": "code",
   "execution_count": null,
   "metadata": {},
   "outputs": [],
   "source": [
    "#Question 6\n",
    "before_individual = [4.09, 4.82, 3.10, 4.02]\n",
    "after_individual = mutate(individual, mutation_rate = 2.0)\n",
    "print(before_individual == after_individual)"
   ]
  },
  {
   "cell_type": "code",
   "execution_count": null,
   "metadata": {},
   "outputs": [],
   "source": [
    "def initializePopulation(m):\n",
    "  population = [create_individual() for _ in range(m)]\n",
    "  return population\n",
    "\n",
    "population = initializePopulation(100)\n",
    "print(len(population))"
   ]
  },
  {
   "cell_type": "code",
   "execution_count": null,
   "metadata": {},
   "outputs": [],
   "source": [
    "def selection(sorted_old_population, m):\n",
    "    index1 = random.randint(0, m-1)\n",
    "    while True:\n",
    "        index2 = random.randint(0, m-1)\n",
    "        if (index2 != index1):\n",
    "            break\n",
    "\n",
    "    individual_s = sorted_old_population[index1]\n",
    "    if index2 > index1:\n",
    "        individual_s = sorted_old_population[index2]\n",
    "\n",
    "    return individual_s"
   ]
  },
  {
   "cell_type": "code",
   "execution_count": null,
   "metadata": {},
   "outputs": [],
   "source": [
    "population = initializePopulation(m=100)\n",
    "individual_s = selection(population, m = 100)\n",
    "print(individual_s)"
   ]
  },
  {
   "cell_type": "code",
   "execution_count": null,
   "metadata": {},
   "outputs": [],
   "source": [
    "def create_new_population(old_population, elitism=2, gen=1):\n",
    "    m = len(old_population)\n",
    "    sorted_population = sorted(old_population, key=compute_fitness)\n",
    "\n",
    "    if gen%1 == 0:\n",
    "        print(\"Best loss:\", compute_loss(sorted_population[m-1]), \"with chromsome: \", sorted_population[m-1])\n",
    "\n",
    "    new_population = []\n",
    "    while len(new_population) < m-elitism:\n",
    "        # selection\n",
    "         # **************** your code here ****************\n",
    "\n",
    "\n",
    "        # crossover\n",
    "        # **************** your code here ****************\n",
    "\n",
    "        # mutation\n",
    "\n",
    "        # **************** your code here ****************\n",
    "\n",
    "        # copy elitism chromosomes that have best fitness score to the next generation\n",
    "    for ind in sorted_population[m-elitism:]:\n",
    "         # **************** your code here ****************\n",
    "\n",
    "\n",
    "    return new_population, compute_loss(sorted_population[m-1])"
   ]
  },
  {
   "cell_type": "code",
   "execution_count": null,
   "metadata": {},
   "outputs": [],
   "source": [
    "#Question 7\n",
    "individual1 = [4.09, 4.82, 3.10, 4.02]\n",
    "individual2 = [3.44, 2.57, -0.79, -2.41]\n",
    "old_population = [individual1, individual2]\n",
    "new_population, _ = create_new_population(old_population, elitism=2, gen=1)"
   ]
  },
  {
   "cell_type": "code",
   "execution_count": null,
   "metadata": {},
   "outputs": [],
   "source": [
    "def run_GA():\n",
    "  n_generations = 100\n",
    "  m = 600\n",
    "  features_X, sales_Y = load_data_from_file()\n",
    "  population = initializePopulation(m)\n",
    "  losses_list = []\n",
    "  for i in range(n_generations):\n",
    "\n",
    "    # *********** your code here *************\n",
    "\n",
    "  return losses_list"
   ]
  },
  {
   "cell_type": "code",
   "execution_count": null,
   "metadata": {},
   "outputs": [],
   "source": [
    "losses_list = run_GA()"
   ]
  },
  {
   "cell_type": "code",
   "execution_count": null,
   "metadata": {},
   "outputs": [],
   "source": [
    "import matplotlib.pyplot as plt\n",
    "\n",
    "def visualize_loss(losses_list):\n",
    "\n",
    "      # *********** your code here *************\n",
    "\n",
    "\n",
    "losses_list = run_GA()\n",
    "visualize_loss(losses_list)"
   ]
  },
  {
   "cell_type": "code",
   "execution_count": null,
   "metadata": {},
   "outputs": [],
   "source": [
    "def visualize_predict_gt():\n",
    "  # visualization of ground truth and predict value\n",
    "  sorted_population = sorted(population, key=compute_fitness)\n",
    "  print(sorted_population[-1])\n",
    "  theta = np.array(sorted_population[-1])\n",
    "\n",
    "  estimated_prices = []\n",
    "  for feature in features_X:\n",
    "     # ************* your code here *************\n",
    "\n",
    "  fig, ax = plt.subplots(figsize=(10, 6))\n",
    "  plt.xlabel('Samples')\n",
    "  plt.ylabel('Price')\n",
    "  plt.plot(sales_Y, c='green', label='Real Prices')\n",
    "  plt.plot(estimated_prices, c='blue', label='Estimated Prices')\n",
    "  plt.legend()\n",
    "  plt.show()\n",
    "\n",
    "visualize_predict_gt()"
   ]
  },
  {
   "cell_type": "code",
   "execution_count": null,
   "metadata": {},
   "outputs": [],
   "source": [
    "# visualization of ground truth and predict value\n",
    "sorted_population = sorted(population, key=compute_fitness)\n",
    "print(sorted_population[-1])\n",
    "theta = np.array(sorted_population[-1])\n",
    "\n",
    "estimated_prices = []\n",
    "samples = [i for i in range(len(features_X))]\n",
    "for feature in features_X:\n",
    "    estimated_price = sum(c*x for x, c in zip(feature, theta))\n",
    "    estimated_prices.append(estimated_price)\n",
    "fig, ax = plt.subplots(figsize=(10, 6))\n",
    "# plt.plot(prices, c='green')\n",
    "# plt.plot(estimated_prices, c='red')\n",
    "plt.xlabel('Samples')\n",
    "plt.ylabel('Price')\n",
    "plt.scatter(samples, sales_Y, c='green', label='Real Prices')\n",
    "plt.scatter(samples, estimated_prices, c='blue', label='Estimated Prices')\n",
    "plt.legend()\n",
    "plt.show()"
   ]
  }
 ],
 "metadata": {
  "kernelspec": {
   "display_name": "ai_env",
   "language": "python",
   "name": "python3"
  },
  "language_info": {
   "codemirror_mode": {
    "name": "ipython",
    "version": 3
   },
   "file_extension": ".py",
   "mimetype": "text/x-python",
   "name": "python",
   "nbconvert_exporter": "python",
   "pygments_lexer": "ipython3",
   "version": "3.9.19"
  }
 },
 "nbformat": 4,
 "nbformat_minor": 2
}
