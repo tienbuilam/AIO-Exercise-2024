{
 "cells": [
  {
   "cell_type": "code",
   "execution_count": 1,
   "metadata": {},
   "outputs": [],
   "source": [
    "import numpy as np"
   ]
  },
  {
   "cell_type": "markdown",
   "metadata": {},
   "source": [
    "$$f(w_1, w_2) = 0.1w_1^2 + 2w_2^2 \\;\\;\\;\\;\\;\\;\\;(1)$$"
   ]
  },
  {
   "cell_type": "code",
   "execution_count": 2,
   "metadata": {},
   "outputs": [],
   "source": [
    "def df_w(W):\n",
    "    \"\"\"\n",
    "    Thực hiện tính gradient của dw1 và dw2\n",
    "    Arguments:\n",
    "    W -- np.array [w1, w2]\n",
    "    Returns:\n",
    "    dW -- np.array [dw1, dw2], array chứa giá trị đạo hàm theo w1 và w2\n",
    "    \"\"\"\n",
    "    #################### YOUR CODE HERE ####################\n",
    "    dW1 = 0.2 * W[0] \n",
    "    dW2 = 4 * W[1]\n",
    "    dW = np.array([dW1, dW2])\n",
    "    ########################################################\n",
    "\n",
    "    return dW"
   ]
  },
  {
   "cell_type": "code",
   "execution_count": null,
   "metadata": {},
   "outputs": [],
   "source": [
    "def RMSProp(W, dW, lr, S, gamma=0.9):\n",
    "    \"\"\"\n",
    "    Thực hiện thuật tóan RMSProp để update w1 và w2\n",
    "    Arguments:\n",
    "    W -- np.array: [w1, w2]\n",
    "    dW -- np.array: [dw1, dw2], array chứa giá trị đạo hàm theo w1 và w2\n",
    "    lr -- float: learning rate\n",
    "    S -- np.array: [s1, s2] Exponentially weighted averages bình phương gradients\n",
    "    gamma -- float: hệ số long-range average\n",
    "    Returns:\n",
    "    W -- np.array: [w1, w2] w1 và w2 sau khi đã update\n",
    "    S -- np.array: [s1, s2] Exponentially weighted averages bình phương gradients sau khi đã cập nhật\n",
    "    \"\"\"\n",
    "    epsilon = 1e-6\n",
    "    #################### YOUR CODE HERE ####################\n",
    "    dw1, dw2 = dW[0], dW[1]\n",
    "\n",
    "    S1 = gamma * S[0] + (1 - gamma) * dw1**2\n",
    "    S2 = gamma * S[1] + (1 - gamma) * dw2**2    \n",
    "\n",
    "    W1 = W[0] - lr * dw1 / np.sqrt(S1 + epsilon)\n",
    "    W2 = W[1] - lr * dw2 / np.sqrt(S2 + epsilon)\n",
    "\n",
    "    W = np.array([W1, W2])\n",
    "    S = np.array([S1, S2])\n",
    "    ########################################################\n",
    "    return W, S"
   ]
  },
  {
   "cell_type": "code",
   "execution_count": 4,
   "metadata": {},
   "outputs": [],
   "source": [
    "def train_p1(optimizer, lr, epochs):\n",
    "    \"\"\"\n",
    "    Thực hiện tìm điểm minimum của function (1) dựa vào thuật toán\n",
    "    được truyền vào từ optimizer\n",
    "    Arguments:\n",
    "    optimize : function thực hiện thuật toán optimization cụ thể\n",
    "    lr -- float: learning rate\n",
    "    epochs -- int: số lượng lần (epoch) lặp để tìm điểm minimum\n",
    "    Returns:\n",
    "    results -- list: list các cặp điểm [w1, w2] sau mỗi epoch (mỗi lần cập nhật)\n",
    "    \"\"\"\n",
    "    # initial\n",
    "    W = np.array([-5, -2], dtype=np.float32)\n",
    "    S = np.array([0, 0], dtype=np.float32)\n",
    "    results = [W]\n",
    "    #################### YOUR CODE HERE ####################\n",
    "    # Tạo vòng lặp theo số lần epochs\n",
    "    # tìm gradient dW gồm dw1 và dw2\n",
    "    # dùng thuật toán optimization cập nhật w1, w2, s1, s2\n",
    "    # append cặp [w1, w2] vào list results\n",
    "    for i in range(epochs):\n",
    "        dW = df_w(W)\n",
    "        W, S = optimizer(W, dW, lr, S)\n",
    "        results.append(W)\n",
    "\n",
    "    ########################################################\n",
    "    return results"
   ]
  },
  {
   "cell_type": "code",
   "execution_count": 5,
   "metadata": {},
   "outputs": [
    {
     "data": {
      "text/plain": [
       "[array([-5., -2.], dtype=float32),\n",
       " array([-4.05132145, -1.05131678]),\n",
       " array([-3.43519754, -0.59152343]),\n",
       " array([-2.95893693, -0.3294394 ]),\n",
       " array([-2.56546289, -0.17756482]),\n",
       " array([-2.22920552, -0.09163256]),\n",
       " array([-1.93626752, -0.04494499]),\n",
       " array([-1.67817686, -0.02081423]),\n",
       " array([-1.44934985, -0.00903559]),\n",
       " array([-1.24588199, -0.00364591]),\n",
       " array([-1.06490301, -0.00135351]),\n",
       " array([-9.04202260e-01, -4.56444431e-04]),\n",
       " array([-7.61996495e-01, -1.37562928e-04]),\n",
       " array([-6.36778499e-01, -3.62601019e-05]),\n",
       " array([-5.27215237e-01, -8.11337456e-06]),\n",
       " array([-4.32078505e-01, -1.47473412e-06]),\n",
       " array([-3.50198507e-01, -2.02783991e-07]),\n",
       " array([-2.80434649e-01, -1.84231187e-08]),\n",
       " array([-2.21659834e-01, -7.67742748e-10]),\n",
       " array([-1.72755512e-01,  7.80451998e-12]),\n",
       " array([-1.32615134e-01, -5.05794800e-13]),\n",
       " array([-1.00153779e-01,  6.19123501e-14]),\n",
       " array([-7.43217708e-02, -1.13373781e-14]),\n",
       " array([-5.41201278e-02,  2.80166702e-15]),\n",
       " array([-3.86159157e-02, -8.81341191e-16]),\n",
       " array([-2.69558066e-02,  3.39921117e-16]),\n",
       " array([-1.83765633e-02, -1.56581731e-16]),\n",
       " array([-1.22116093e-02,  8.44994985e-17]),\n",
       " array([-7.89331794e-03, -5.26376595e-17]),\n",
       " array([-4.95110261e-03,  3.74107995e-17]),\n",
       " array([-3.00577081e-03, -3.00506084e-17])]"
      ]
     },
     "execution_count": 5,
     "metadata": {},
     "output_type": "execute_result"
    }
   ],
   "source": [
    "train_p1(RMSProp, lr=0.3, epochs=30)"
   ]
  }
 ],
 "metadata": {
  "kernelspec": {
   "display_name": "ai_env",
   "language": "python",
   "name": "python3"
  },
  "language_info": {
   "codemirror_mode": {
    "name": "ipython",
    "version": 3
   },
   "file_extension": ".py",
   "mimetype": "text/x-python",
   "name": "python",
   "nbconvert_exporter": "python",
   "pygments_lexer": "ipython3",
   "version": "3.9.19"
  }
 },
 "nbformat": 4,
 "nbformat_minor": 2
}
