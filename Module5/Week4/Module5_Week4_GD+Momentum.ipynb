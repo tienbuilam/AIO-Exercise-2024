{
 "cells": [
  {
   "cell_type": "code",
   "execution_count": 16,
   "metadata": {},
   "outputs": [],
   "source": [
    "import numpy as np"
   ]
  },
  {
   "cell_type": "markdown",
   "metadata": {},
   "source": [
    "$$f(w_1, w_2) = 0.1w_1^2 + 2w_2^2 \\;\\;\\;\\;\\;\\;\\;(1)$$"
   ]
  },
  {
   "cell_type": "code",
   "execution_count": 17,
   "metadata": {},
   "outputs": [],
   "source": [
    "def df_w(W):\n",
    "    \"\"\"\n",
    "    Thực hiện tính gradient của dw1 và dw2\n",
    "    Arguments:\n",
    "    W -- np.array [w1, w2]\n",
    "    Returns:\n",
    "    dW -- np.array [dw1, dw2], array chứa giá trị đạo hàm theo w1 và w2\n",
    "    \"\"\"\n",
    "    #################### YOUR CODE HERE ####################\n",
    "    dW1 = 0.2 * W[0] \n",
    "    dW2 = 4 * W[1]\n",
    "    dW = np.array([dW1, dW2])\n",
    "    ########################################################\n",
    "\n",
    "    return dW"
   ]
  },
  {
   "cell_type": "code",
   "execution_count": 18,
   "metadata": {},
   "outputs": [],
   "source": [
    "def sgd_momentum(W, dW, lr, V, beta=0.5):\n",
    "    \"\"\"\n",
    "    Thực hiện thuật tóan Gradient Descent + Momentum để update w1 và w2\n",
    "    Arguments:\n",
    "    W -- np.array: [w1, w2]\n",
    "    dW -- np.array: [dw1, dw2], array chứa giá trị đạo hàm theo w1 và w2\n",
    "    lr -- float: learning rate\n",
    "    V -- np.array: [v1, v2] Exponentially weighted averages gradients\n",
    "    beta -- float: hệ số long-range average\n",
    "    Returns:\n",
    "    W -- np.array: [w1, w2] w1 và w2 sau khi đã update\n",
    "    V -- np.array: [v1, v2] Exponentially weighted averages gradients sau khi đã cập nhật\n",
    "    \"\"\"\n",
    "    #################### YOUR CODE HERE ####################\n",
    "    dw1, dw2 = dW[0], dW[1]\n",
    "    v1 = beta * V[0] + (1-beta) * dw1\n",
    "    v2 = beta * V[1] + (1-beta) * dw2\n",
    "    w1 = W[0] - lr * v1\n",
    "    w2 = W[1] - lr * v2\n",
    "    W = np.array([w1, w2])\n",
    "    V = np.array([v1, v2])\n",
    "    ########################################################\n",
    "    return W, V"
   ]
  },
  {
   "cell_type": "code",
   "execution_count": 19,
   "metadata": {},
   "outputs": [],
   "source": [
    "def train_p1(optimizer, lr, epochs):\n",
    "    \"\"\"\n",
    "    Thực hiện tìm điểm minimum của function (1) dựa vào thuật toán\n",
    "    được truyền vào từ optimizer\n",
    "    Arguments:\n",
    "    optimize : function thực hiện thuật toán optimization cụ thể\n",
    "    lr -- float: learning rate\n",
    "    epochs -- int: số lượng lần (epoch) lặp để tìm điểm minimum\n",
    "    Returns:\n",
    "    results -- list: list các cặp điểm [w1, w2] sau mỗi epoch (mỗi lần cập nhật)\n",
    "    \"\"\"\n",
    "\n",
    "    # initial point\n",
    "    W = np.array([-5, -2], dtype=np.float32)\n",
    "    V = np.array([0, 0], dtype=np.float32)\n",
    "    # list of results\n",
    "    results = [W]\n",
    "    #################### YOUR CODE HERE ####################\n",
    "    # Tạo vòng lặp theo số lần epochs\n",
    "    # tìm gradient dW gồm dw1 và dw2\n",
    "    # dùng thuật toán optimization cập nhật w1, w2, v1, v2\n",
    "    # append cặp [w1, w2] vào list results\n",
    "    for i in range(epochs):\n",
    "        dW = df_w(W)\n",
    "        W, V = optimizer(W, dW, lr, V   )\n",
    "        results.append(W)\n",
    "    ########################################################\n",
    "    return results"
   ]
  },
  {
   "cell_type": "code",
   "execution_count": 20,
   "metadata": {},
   "outputs": [
    {
     "data": {
      "text/plain": [
       "[array([-5., -2.], dtype=float32),\n",
       " array([-4.7,  0.4]),\n",
       " array([-4.268,  1.12 ]),\n",
       " array([-3.79592,  0.136  ]),\n",
       " array([-3.3321248, -0.5192   ]),\n",
       " array([-2.90029971, -0.22376   ]),\n",
       " array([-2.51036919,  0.192472  ]),\n",
       " array([-2.16478177,  0.1696216 ]),\n",
       " array([-1.86210116, -0.04534952]),\n",
       " array([-1.59903478, -0.09841566]),\n",
       " array([-1.37155951, -0.00684994]),\n",
       " array([-1.1755283 ,  0.04715285]),\n",
       " array([-1.006981  ,  0.01757082]),\n",
       " array([-0.86228849, -0.01830518]),\n",
       " array([-0.73820492, -0.01427696]),\n",
       " array([-0.63187084,  0.0048695 ]),\n",
       " array([-0.54079155,  0.00859933]),\n",
       " array([-4.62804416e-01,  1.45050014e-04]),\n",
       " array([-0.39604258, -0.00425615]),\n",
       " array([-0.33889911, -0.00134937]),\n",
       " array([-0.28999343,  0.00172326]),\n",
       " array([-0.24814098,  0.00119166]),\n",
       " array([-0.2123263 , -0.00050413]),\n",
       " array([-0.18167938, -0.00074707]),\n",
       " array([-1.55455157e-01,  2.79448010e-05]),\n",
       " array([-0.13301574,  0.00038192]),\n",
       " array([-1.13815082e-01,  1.00603444e-04]),\n",
       " array([-0.09738585, -0.00016078]),\n",
       " array([-8.33280829e-02, -9.85353344e-05]),\n",
       " array([-7.12995144e-02,  5.08287536e-05]),\n",
       " array([-6.10072592e-02,  6.45162933e-05])]"
      ]
     },
     "execution_count": 20,
     "metadata": {},
     "output_type": "execute_result"
    }
   ],
   "source": [
    "train_p1(sgd_momentum, lr=0.6, epochs=30)"
   ]
  }
 ],
 "metadata": {
  "kernelspec": {
   "display_name": "ai_env",
   "language": "python",
   "name": "python3"
  },
  "language_info": {
   "codemirror_mode": {
    "name": "ipython",
    "version": 3
   },
   "file_extension": ".py",
   "mimetype": "text/x-python",
   "name": "python",
   "nbconvert_exporter": "python",
   "pygments_lexer": "ipython3",
   "version": "3.9.19"
  }
 },
 "nbformat": 4,
 "nbformat_minor": 2
}
