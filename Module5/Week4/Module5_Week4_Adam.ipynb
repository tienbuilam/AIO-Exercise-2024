{
 "cells": [
  {
   "cell_type": "code",
   "execution_count": 30,
   "metadata": {},
   "outputs": [],
   "source": [
    "import numpy as np"
   ]
  },
  {
   "cell_type": "markdown",
   "metadata": {},
   "source": [
    "$$f(w_1, w_2) = 0.1w_1^2 + 2w_2^2 \\;\\;\\;\\;\\;\\;\\;(1)$$"
   ]
  },
  {
   "cell_type": "code",
   "execution_count": 31,
   "metadata": {},
   "outputs": [],
   "source": [
    "def df_w(W):\n",
    "    \"\"\"\n",
    "    Thực hiện tính gradient của dw1 và dw2\n",
    "    Arguments:\n",
    "    W -- np.array [w1, w2]\n",
    "    Returns:\n",
    "    dW -- np.array [dw1, dw2], array chứa giá trị đạo hàm theo w1 và w2\n",
    "    \"\"\"\n",
    "    #################### YOUR CODE HERE ####################\n",
    "    dW1 = 0.2 * W[0] \n",
    "    dW2 = 4 * W[1]\n",
    "    dW = np.array([dW1, dW2])\n",
    "    ########################################################\n",
    "\n",
    "    return dW"
   ]
  },
  {
   "cell_type": "code",
   "execution_count": 32,
   "metadata": {},
   "outputs": [],
   "source": [
    "def Adam(W, dW, lr, V, S, beta1, beta2, t):\n",
    "    \"\"\"\n",
    "    Thực hiện thuật tóan Adam để update w1 và w2\n",
    "    Arguments:\n",
    "    W -- np.array: [w1, w2]\n",
    "    dW -- np.array: [dw1, dw2], array chứa giá trị đạo hàm theo w1 và w2\n",
    "    lr -- float: learning rate\n",
    "    V -- np.array: [v1, v2] Exponentially weighted averages gradients\n",
    "    S -- np.array: [s1, s2] Exponentially weighted averages bình phương gradients\n",
    "    beta1 -- float: hệ số long-range average cho V\n",
    "    beta2 -- float: hệ số long-range average cho S\n",
    "    t -- int: lần thứ t update (bắt đầu bằng 1)\n",
    "    Returns:\n",
    "    W -- np.array: [w1, w2] w1 và w2 sau khi đã update\n",
    "    V -- np.array: [v1, v2] Exponentially weighted averages gradients sau khi đã cập nhật\n",
    "    S -- np.array: [s1, s2] Exponentially weighted averages bình phương gradients sau khi đã cập nhật\n",
    "    \"\"\"\n",
    "    epsilon = 1e-6\n",
    "    #################### YOUR CODE HERE ####################\n",
    "    dw1, dw2 = dW[0], dW[1]\n",
    "    V1 = beta1 * V[0] + (1 - beta1) * dw1\n",
    "    V2 = beta1 * V[1] + (1 - beta1) * dw2\n",
    "\n",
    "    S1 = beta2 * S[0] + (1 - beta2) * dw1**2\n",
    "    S2 = beta2 * S[1] + (1 - beta2) * dw2**2\n",
    "\n",
    "    V1_corr = V1 / (1 - beta1**t)\n",
    "    V2_corr = V2 / (1 - beta1**t)\n",
    "\n",
    "    S1_corr = S1 / (1 - beta2**t)\n",
    "    S2_corr = S2 / (1 - beta2**t)\n",
    "\n",
    "    W1 = W[0] - lr * V1_corr / ((np.sqrt(S1_corr)) + epsilon)\n",
    "    W2 = W[1] - lr * V2_corr / ((np.sqrt(S2_corr)) + epsilon)\n",
    "\n",
    "    W = np.array([W1, W2])\n",
    "    V = np.array([V1, V2])\n",
    "    S = np.array([S1, S2])\n",
    "    ########################################################\n",
    "    return W, V, S"
   ]
  },
  {
   "cell_type": "code",
   "execution_count": 33,
   "metadata": {},
   "outputs": [],
   "source": [
    "def train_p1(optimizer, lr, epochs):\n",
    "    \"\"\"\n",
    "    Thực hiện tìm điểm minimum của function (1) dựa vào thuật toán\n",
    "    được truyền vào từ optimizer\n",
    "    Arguments:\n",
    "    optimize : function thực hiện thuật toán optimization cụ thể\n",
    "    lr -- float: learning rate\n",
    "    epochs -- int: số lượng lần (epoch) lặp để tìm điểm minimum\n",
    "    Returns:\n",
    "    results -- list: list các cặp điểm [w1, w2] sau mỗi epoch (mỗi lần cập nhật)\n",
    "    \"\"\"\n",
    "    # initial\n",
    "    W = np.array([-5, -2], dtype=np.float32)\n",
    "    V = np.array([0, 0], dtype=np.float32)\n",
    "    S = np.array([0, 0], dtype=np.float32)\n",
    "    results = [W]\n",
    "    #################### YOUR CODE HERE ####################\n",
    "    # Tạo vòng lặp theo số lần epochs\n",
    "    # tìm gradient dW gồm dw1 và dw2\n",
    "    # dùng thuật toán optimization cập nhật w1, w2, s1, s2, v1, v2\n",
    "    # append cặp [w1, w2] vào list results\n",
    "    # các bạn lưu ý mỗi lần lặp nhớ lấy t (lần thứ t lặp) và t bất đầu bằng 1\n",
    "    for t in range(1, epochs + 1):\n",
    "        dW = df_w(W)\n",
    "        W, V, S = optimizer(W, dW, lr, V, S, 0.9, 0.999, t)\n",
    "        results.append(W)\n",
    "\n",
    "    ########################################################\n",
    "    return results"
   ]
  },
  {
   "cell_type": "code",
   "execution_count": 34,
   "metadata": {},
   "outputs": [
    {
     "data": {
      "text/plain": [
       "[array([-5., -2.], dtype=float32),\n",
       " array([-4.8000002 , -1.80000002]),\n",
       " array([-4.60025478, -1.60082451]),\n",
       " array([-4.40094848, -1.40317262]),\n",
       " array([-4.20227764, -1.20787822]),\n",
       " array([-4.00445033, -1.01592745]),\n",
       " array([-3.80768638, -0.82847307]),\n",
       " array([-3.61221732, -0.64684159]),\n",
       " array([-3.41828623, -0.47252765]),\n",
       " array([-3.22614739, -0.30716934]),\n",
       " array([-3.03606592, -0.15249855]),\n",
       " array([-2.84831706, -0.01026326]),\n",
       " array([-2.66318543,  0.11787552]),\n",
       " array([-2.480964  ,  0.23046161]),\n",
       " array([-2.30195279,  0.3263587 ]),\n",
       " array([-2.12645742,  0.40484195]),\n",
       " array([-1.95478732,  0.46564961]),\n",
       " array([-1.7872537 ,  0.50898799]),\n",
       " array([-1.62416726,  0.53549442]),\n",
       " array([-1.46583566,  0.54617144]),\n",
       " array([-1.31256067,  0.54230812]),\n",
       " array([-1.16463526,  0.52540206]),\n",
       " array([-1.02234036,  0.4970906 ]),\n",
       " array([-0.88594163,  0.4590951 ]),\n",
       " array([-0.75568617,  0.41317781]),\n",
       " array([-0.63179919,  0.3611089 ]),\n",
       " array([-0.51448089,  0.30464048]),\n",
       " array([-0.40390346,  0.24548409]),\n",
       " array([-0.30020842,  0.18528918]),\n",
       " array([-0.20350426,  0.12562074]),\n",
       " array([-0.11386457,  0.06793529])]"
      ]
     },
     "execution_count": 34,
     "metadata": {},
     "output_type": "execute_result"
    }
   ],
   "source": [
    "train_p1(Adam, lr=0.2, epochs=30)"
   ]
  }
 ],
 "metadata": {
  "kernelspec": {
   "display_name": "ai_env",
   "language": "python",
   "name": "python3"
  },
  "language_info": {
   "codemirror_mode": {
    "name": "ipython",
    "version": 3
   },
   "file_extension": ".py",
   "mimetype": "text/x-python",
   "name": "python",
   "nbconvert_exporter": "python",
   "pygments_lexer": "ipython3",
   "version": "3.9.19"
  }
 },
 "nbformat": 4,
 "nbformat_minor": 2
}
