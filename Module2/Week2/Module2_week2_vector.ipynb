{
  "nbformat": 4,
  "nbformat_minor": 0,
  "metadata": {
    "colab": {
      "provenance": []
    },
    "kernelspec": {
      "name": "python3",
      "display_name": "Python 3"
    },
    "language_info": {
      "name": "python"
    }
  },
  "cells": [
    {
      "cell_type": "code",
      "execution_count": 13,
      "metadata": {
        "id": "keDLOmEGYLNv"
      },
      "outputs": [],
      "source": [
        "import numpy as np"
      ]
    },
    {
      "cell_type": "code",
      "source": [
        "def compute_vector_length(vector):\n",
        "    return np.sqrt(np.sum(vector**2))"
      ],
      "metadata": {
        "id": "0eboWmnQYUcH"
      },
      "execution_count": null,
      "outputs": []
    },
    {
      "cell_type": "code",
      "source": [
        "vector = np.array ([-2 , 4 , 9 , 21])\n",
        "result = compute_vector_length(vector)\n",
        "print(round(result,2))"
      ],
      "metadata": {
        "colab": {
          "base_uri": "https://localhost:8080/"
        },
        "id": "T1u4JhI9YlXg",
        "outputId": "7ca387f2-e6d7-4190-9bb6-dc30ec8cdd18"
      },
      "execution_count": null,
      "outputs": [
        {
          "output_type": "stream",
          "name": "stdout",
          "text": [
            "23.28\n"
          ]
        }
      ]
    },
    {
      "cell_type": "code",
      "source": [
        "def compute_dot_product(vector1, vector2):\n",
        "    return np.sum(vector1 * vector2)"
      ],
      "metadata": {
        "id": "SlAQ0aAEZCJM"
      },
      "execution_count": null,
      "outputs": []
    },
    {
      "cell_type": "code",
      "source": [
        "v1 = np.array([0 , 1 , -1 , 2])\n",
        "v2 = np.array([2 , 5 , 1 , 0])\n",
        "result = compute_dot_product(v1 , v2)\n",
        "print(round(result ,2))"
      ],
      "metadata": {
        "colab": {
          "base_uri": "https://localhost:8080/"
        },
        "id": "tXn9lil6gHLl",
        "outputId": "ac655d36-6747-45b3-cb55-99eab2f4b636"
      },
      "execution_count": null,
      "outputs": [
        {
          "output_type": "stream",
          "name": "stdout",
          "text": [
            "4\n"
          ]
        }
      ]
    },
    {
      "cell_type": "code",
      "source": [
        "x = np.array([[1 , 2],[3 , 4]])\n",
        "k = np.array([1 , 2])\n",
        "print ('result \\n', x.dot (k) )"
      ],
      "metadata": {
        "colab": {
          "base_uri": "https://localhost:8080/"
        },
        "id": "vCR3-Ve6tN4X",
        "outputId": "4ac9b6a2-cf9a-4728-8de0-1ad596bb54d3"
      },
      "execution_count": null,
      "outputs": [
        {
          "output_type": "stream",
          "name": "stdout",
          "text": [
            "result \n",
            " [ 5 11]\n"
          ]
        }
      ]
    },
    {
      "cell_type": "code",
      "source": [
        "x = np. array([[ -1 , 2] ,[3 , -4]])\n",
        "k = np. array([1 , 2])\n",
        "print('result \\n', x@k )"
      ],
      "metadata": {
        "colab": {
          "base_uri": "https://localhost:8080/"
        },
        "id": "9rEnTPr8td5E",
        "outputId": "4e8d4c80-ed3a-4f64-d748-87eaa366cf55"
      },
      "execution_count": null,
      "outputs": [
        {
          "output_type": "stream",
          "name": "stdout",
          "text": [
            "result \n",
            " [ 3 -5]\n"
          ]
        }
      ]
    },
    {
      "cell_type": "code",
      "source": [
        "def matrix_multi_vector(matrix, vector):\n",
        "    return np.dot(matrix, vector)"
      ],
      "metadata": {
        "id": "NxGCc_7Epr1B"
      },
      "execution_count": null,
      "outputs": []
    },
    {
      "cell_type": "code",
      "source": [
        "m = np.array([[ -1 , 1 , 1] , [0 , -4 , 9]])\n",
        "v = np.array([0 , 2 , 1])\n",
        "result = matrix_multi_vector(m, v)\n",
        "print(result)"
      ],
      "metadata": {
        "colab": {
          "base_uri": "https://localhost:8080/"
        },
        "id": "pKX5m-QVyNhs",
        "outputId": "24c4400d-e7e6-49a2-f9b6-f3ef3d845551"
      },
      "execution_count": null,
      "outputs": [
        {
          "output_type": "stream",
          "name": "stdout",
          "text": [
            "[3 1]\n"
          ]
        }
      ]
    },
    {
      "cell_type": "code",
      "source": [
        "def matrix_multi_matrix(matrix1, matrix2):\n",
        "    return np.dot(matrix1, matrix2)"
      ],
      "metadata": {
        "id": "hvzBmHBfr3tC"
      },
      "execution_count": null,
      "outputs": []
    },
    {
      "cell_type": "code",
      "source": [
        "m1 = np.array([[0 , 1 , 2] , [2 , -3 , 1]])\n",
        "m2 = np.array([[1 , -3] ,[6 , 1] , [0 , -1]])\n",
        "result = matrix_multi_matrix(m1 , m2)\n",
        "print(result)"
      ],
      "metadata": {
        "colab": {
          "base_uri": "https://localhost:8080/"
        },
        "id": "o3Z8hVdbyYxT",
        "outputId": "dc073bc4-c0fa-4212-f807-e3943ee3474d"
      },
      "execution_count": null,
      "outputs": [
        {
          "output_type": "stream",
          "name": "stdout",
          "text": [
            "[[  6  -1]\n",
            " [-16 -10]]\n"
          ]
        }
      ]
    },
    {
      "cell_type": "code",
      "source": [
        "m1 = np.eye(3)\n",
        "m2 = np.array([[1 , 1 , 1] ,[2 , 2 , 2] , [3 , 3 , 3]])\n",
        "result = m1@m2\n",
        "print(result)\n"
      ],
      "metadata": {
        "colab": {
          "base_uri": "https://localhost:8080/"
        },
        "id": "Qd7Uf6n9ym_b",
        "outputId": "8b21228b-7c7b-42fc-a4f3-2d896557c086"
      },
      "execution_count": null,
      "outputs": [
        {
          "output_type": "stream",
          "name": "stdout",
          "text": [
            "[[1. 1. 1.]\n",
            " [2. 2. 2.]\n",
            " [3. 3. 3.]]\n"
          ]
        }
      ]
    },
    {
      "cell_type": "code",
      "source": [
        "m1 = np.eye(2)\n",
        "print(m1)\n",
        "m1 = np.reshape(m1,(-1 ,4))\n",
        "print(m1)\n",
        "m2 = np.array([[1 , 1 , 1 , 1] ,[2 , 2 , 2 , 2] , [3 , 3 , 3 , 3] , [4 , 4 , 4 , 4]])\n",
        "result = m1@m2\n",
        "print(result)"
      ],
      "metadata": {
        "colab": {
          "base_uri": "https://localhost:8080/"
        },
        "id": "SrlHu7s3zSFU",
        "outputId": "71564f35-b74a-476f-852a-e978667a11cf"
      },
      "execution_count": 5,
      "outputs": [
        {
          "output_type": "stream",
          "name": "stdout",
          "text": [
            "[[1. 0.]\n",
            " [0. 1.]]\n",
            "[[1. 0. 0. 1.]]\n",
            "[[5. 5. 5. 5.]]\n"
          ]
        }
      ]
    },
    {
      "cell_type": "code",
      "source": [
        "m1 = np. array([[1 , 2] , [3 , 4]])\n",
        "m1 = np. reshape (m1 ,( -1 ,4), \"F\") [0]\n",
        "m2 = np. array([[1 , 1 , 1 , 1],[2 , 2 , 2 , 2],[3 , 3 , 3 , 3],[4 , 4 , 4 , 4]])\n",
        "result = m1@m2\n",
        "print ( result )"
      ],
      "metadata": {
        "colab": {
          "base_uri": "https://localhost:8080/"
        },
        "id": "Qxq22k_kaWLG",
        "outputId": "b1ba9529-2f92-4d48-ad50-c1c5679c5571"
      },
      "execution_count": 6,
      "outputs": [
        {
          "output_type": "stream",
          "name": "stdout",
          "text": [
            "[29 29 29 29]\n"
          ]
        }
      ]
    },
    {
      "cell_type": "code",
      "source": [
        "def inverse_matrix(matrix):\n",
        "    return np.linalg.inv(matrix)"
      ],
      "metadata": {
        "id": "tdtarc7ashUQ"
      },
      "execution_count": 8,
      "outputs": []
    },
    {
      "cell_type": "markdown",
      "source": [
        "## Inverse Matrix\n",
        "\n",
        "*   Matrix A:\n",
        "\\begin{equation}\n",
        "A = \\begin{bmatrix} -2 & 6 \\\\ 8 & -4 \\end{bmatrix}\n",
        "\\end{equation}\n",
        "\n",
        "*   Determinant of A:\n",
        "\\begin{equation}\n",
        "det(A) = (-2)*(-4) - 8*6 = -40\n",
        "\\end{equation}\n",
        "\n",
        "*   Inverse matrix of A:\n",
        "\\begin{equation}\n",
        "  A^{-1} = \\frac{1}{-40}\\begin{bmatrix} -4 & -6 \\\\ -8 & -2 \\end{bmatrix} = \\begin{bmatrix} 0.1 & 0.15 \\\\ 0.2 & 0.05 \\end{bmatrix}\n",
        "\\end{equation}\n",
        "\n"
      ],
      "metadata": {
        "id": "-aYzeEqzgONw"
      }
    },
    {
      "cell_type": "code",
      "source": [
        "matrix = np.array([[-2, 6], [8, -4]])\n",
        "result = inverse_matrix(matrix)\n",
        "print(result)"
      ],
      "metadata": {
        "colab": {
          "base_uri": "https://localhost:8080/"
        },
        "id": "dHvpFeiusz6l",
        "outputId": "b004182e-b7fc-4989-bfc7-ef07b8dbd8a7"
      },
      "execution_count": 9,
      "outputs": [
        {
          "output_type": "stream",
          "name": "stdout",
          "text": [
            "[[0.1  0.15]\n",
            " [0.2  0.05]]\n"
          ]
        }
      ]
    },
    {
      "cell_type": "code",
      "source": [
        "def compute_eigenvalues_eigenvectors(matrix):\n",
        "    eigenvalues, eigenvectors = np.linalg.eig(matrix)\n",
        "    return eigenvalues, eigenvectors"
      ],
      "metadata": {
        "id": "pUVMcRhJx_Ph"
      },
      "execution_count": 11,
      "outputs": []
    },
    {
      "cell_type": "code",
      "source": [
        "matrix = np.array ([[0.9 , 0.2] , [0.1 , 0.8]])\n",
        "eigenvalues, eigenvectors = compute_eigenvalues_eigenvectors( matrix )\n",
        "print(eigenvalues)\n",
        "print(eigenvectors)"
      ],
      "metadata": {
        "colab": {
          "base_uri": "https://localhost:8080/"
        },
        "id": "D6lEOxuUsY2Y",
        "outputId": "380d8541-31cc-4d58-abb2-5595556138aa"
      },
      "execution_count": 18,
      "outputs": [
        {
          "output_type": "stream",
          "name": "stdout",
          "text": [
            "[1.  0.7]\n",
            "[[ 0.89442719 -0.70710678]\n",
            " [ 0.4472136   0.70710678]]\n"
          ]
        }
      ]
    },
    {
      "cell_type": "markdown",
      "source": [
        "## Eigenvector and Eigenvalue of Matrix A\n",
        "\n",
        "*   Given the matrix A:\n",
        "\\begin{equation}\n",
        "A = \\begin{bmatrix}\n",
        "0.9 & 0.2 \\\\\n",
        "0.1 & 0.8\n",
        "\\end{bmatrix}\n",
        "\\end{equation}\n",
        "\n",
        "*   Compute the Eigenvalues\n",
        "\n",
        "The eigenvalues $\\lambda$ are found by solving the characteristic equation:\n",
        "\\begin{equation}\n",
        "\\text{det}(A - \\lambda I) = 0\n",
        "\\\\\n",
        "A - \\lambda I = \\begin{bmatrix}\n",
        "0.9 - \\lambda & 0.2 \\\\\n",
        "0.1 & 0.8 - \\lambda\n",
        "\\end{bmatrix}\n",
        "\\\\\n",
        "⇒ \\text{det}(A - \\lambda I) = (0.9 - \\lambda)(0.8 - \\lambda) - (0.2)(0.1) = \\lambda^2 - 1.7\\lambda + 0.7 = 0\n",
        "\\end{equation}\n",
        "\n",
        "Solving the quadratic equation:\n",
        "\\begin{equation}\n",
        "\\lambda = \\frac{1.7 \\pm \\sqrt{(1.7)^2 - 4 \\cdot 0.7}}{2} = \\frac{1.7 \\pm \\sqrt{2.89 - 2.8}}{2} = \\frac{1.7 \\pm \\sqrt{0.09}}{2} = \\frac{1.7 \\pm 0.3}{2}\n",
        "\\end{equation}\n",
        "\n",
        "Thus, the eigenvalues are:\n",
        "\\begin{equation}\n",
        "⇒ \\lambda_1 = 1, \\quad \\lambda_2 = 0.7\n",
        "\\end{equation}\n",
        "\n",
        "*  Compute the Eigenvectors\n",
        "\n",
        "For $\\lambda_1 = 1$\n",
        "\\begin{equation}\n",
        "(A - I)v = 0\n",
        "\\\\\n",
        "⇒ \\begin{bmatrix}\n",
        "0.9 - 1 & 0.2 \\\\\n",
        "0.1 & 0.8 - 1\n",
        "\\end{bmatrix} \\begin{bmatrix}\n",
        "v_1 \\\\\n",
        "v_2\n",
        "\\end{bmatrix} = 0\n",
        "\\\\\n",
        "⇒ \\begin{bmatrix}\n",
        "-0.1 & 0.2 \\\\\n",
        "0.1 & -0.2\n",
        "\\end{bmatrix} \\begin{bmatrix}\n",
        "v_1 \\\\\n",
        "v_2\n",
        "\\end{bmatrix} = 0\n",
        "\\end{equation}\n",
        "\n",
        "This reduces to:\n",
        "\\begin{equation}\n",
        "-0.1v_1 + 0.2v_2 = 0\n",
        "\\\\\n",
        "⇒ v_2 = \\frac{v_1}{2}\n",
        "\\end{equation}\n",
        "\n",
        "Thus, the eigenvector corresponding to $\\lambda_1 = 1$ is:\n",
        "\\begin{equation}\n",
        "v_1 = \\begin{bmatrix}\n",
        "1 \\\\ 0.5\n",
        "\\end{bmatrix}\n",
        "\\end{equation}\n",
        "\n",
        "Normalize $v_1$:\n",
        "\\begin{equation}\n",
        "||v_1|| = \\sqrt{1^2 + 0.5^2} = \\sqrt{1.25} \\approx 1.118\n",
        "\\\\\n",
        "⇒ v_1 = \\begin{bmatrix}\n",
        "\\frac{1}{1.118} \\\\\n",
        "\\frac{0.5}{1.118}\n",
        "\\end{bmatrix} = \\begin{bmatrix}\n",
        "\\frac{1}{\\sqrt{1.25}} \\\\\n",
        "\\frac{0.5}{\\sqrt{1.25}}\n",
        "\\end{bmatrix} \\approx \\begin{bmatrix}\n",
        "0.894 \\\\\n",
        "0.447\n",
        "\\end{bmatrix}\n",
        "\\end{equation}\n",
        "\n",
        "For $ \\lambda_2 = 0.7 $:\n",
        "\\begin{equation}\n",
        "(A - 0.7I)v = 0\n",
        "\\\\\n",
        "⇒ \\begin{bmatrix}\n",
        "0.9 - 0.7 & 0.2 \\\\ 0.1 & 0.8 - 0.7\n",
        "\\end{bmatrix} \\begin{bmatrix}\n",
        "v_1 \\\\ v_2\n",
        "\\end{bmatrix} = 0\n",
        "\\\\\n",
        "⇒ \\begin{bmatrix}\n",
        "0.2 & 0.2 \\\\ 0.1 & 0.1\n",
        "\\end{bmatrix}\n",
        "\\begin{bmatrix}\n",
        "v_1 \\\\ v_2\n",
        "\\end{bmatrix} = 0\n",
        "\\end{equation}\n",
        "\n",
        "This reduces to:\n",
        "\\begin{equation}\n",
        "0.2v_1 + 0.2v_2 = 0\n",
        "\\\\\n",
        "⇒ v_1 = -v_2\n",
        "\\end{equation}\n",
        "\n",
        "Thus, the eigenvector corresponding to $ \\lambda_2 = 0.7 $ is:\n",
        "\\begin{equation}\n",
        "v_2 = \\begin{bmatrix}\n",
        "1 \\\\ -1\n",
        "\\end{bmatrix}\n",
        "\\end{equation}\n",
        "\n",
        "Normalize $v_2 $:\n",
        "\\begin{equation}\n",
        "||v_2|| = \\sqrt{1^2 + (-1)^2} = \\sqrt{2}\n",
        "\\\\\n",
        "⇒ v_2 = \\begin{bmatrix}\n",
        "\\frac{1}{\\sqrt{2}} \\\\\n",
        "\\frac{-1}{\\sqrt{2}}\n",
        "\\end{bmatrix} \\approx \\begin{bmatrix}\n",
        "0.707 \\\\\n",
        "-0.707\n",
        "\\end{bmatrix}\n",
        "\\end{equation}\n",
        "\n",
        "## Summary\n",
        "The normalized eigenvectors and eigenvalues are:\n",
        "\\begin{equation}\n",
        "\\lambda_1 = 1, \\quad v_1 = \\begin{bmatrix}\n",
        "0.894 \\\\\n",
        "0.447\n",
        "\\end{bmatrix}\n",
        "\\\\\n",
        "\\lambda_2 = 0.7, \\quad v_2 = \\begin{bmatrix}\n",
        "0.707 \\\\\n",
        "-0.707\n",
        "\\end{bmatrix}\n",
        "\\end{equation}\n"
      ],
      "metadata": {
        "id": "muuRxoCh8Z3H"
      }
    },
    {
      "cell_type": "code",
      "source": [
        "def compute_cosine(vector1, vector2):\n",
        "    return np.dot(vector1, vector2) / (np.linalg.norm(vector1) * np.linalg.norm(vector2))"
      ],
      "metadata": {
        "id": "In9XPSBAsmHK"
      },
      "execution_count": 15,
      "outputs": []
    },
    {
      "cell_type": "markdown",
      "source": [
        "## Cosine Similarity\n",
        "\n",
        "*   Vector X and Vector Y:\n",
        "\\begin{equation}\n",
        "x = \\begin{bmatrix} 1 \\\\ 2 \\\\ 3 \\\\ 4 \\end{bmatrix}\n",
        "\\\\\n",
        "y = \\begin{bmatrix} 1 \\\\ 0 \\\\ 3 \\\\ 0 \\end{bmatrix}\n",
        "\\end{equation}\n",
        "\n",
        "*   Cosine Simularity\n",
        "\\begin{equation}\n",
        "x.y = y = 1*1 + 3*3 = 10\n",
        "\\\\\n",
        "||x|| = \\sqrt(1^2 + 2^2 + 3^2 + 4^2) = \\sqrt30\n",
        "\\\\\n",
        "||y|| = \\sqrt(1^2 + 0^2 + 3^2 + 0^2) = \\sqrt10\n",
        "\\\\\n",
        "\\Rightarrow cs(x,y) = \\frac{x.y}{||x||.||y||} = \\frac{1}{\\sqrt3}\n",
        "\\end{equation}\n"
      ],
      "metadata": {
        "id": "ZzVJvEA8s6YV"
      }
    },
    {
      "cell_type": "code",
      "source": [
        "x = np.array([1 , 2 , 3 , 4])\n",
        "y = np.array([1 , 0 , 3 , 0])\n",
        "result = compute_cosine(x,y)\n",
        "print(round(result,3))"
      ],
      "metadata": {
        "colab": {
          "base_uri": "https://localhost:8080/"
        },
        "id": "VhUsD7wXsiiH",
        "outputId": "d3863955-8c47-46c5-8909-5f59ed43362f"
      },
      "execution_count": 16,
      "outputs": [
        {
          "output_type": "stream",
          "name": "stdout",
          "text": [
            "0.577\n"
          ]
        }
      ]
    }
  ]
}