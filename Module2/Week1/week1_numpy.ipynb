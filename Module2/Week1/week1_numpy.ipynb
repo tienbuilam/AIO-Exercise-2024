{
  "nbformat": 4,
  "nbformat_minor": 0,
  "metadata": {
    "colab": {
      "provenance": []
    },
    "kernelspec": {
      "name": "python3",
      "display_name": "Python 3"
    },
    "language_info": {
      "name": "python"
    }
  },
  "cells": [
    {
      "cell_type": "markdown",
      "source": [
        "##Basic Numpy"
      ],
      "metadata": {
        "id": "csNTfNt9zeOr"
      }
    },
    {
      "cell_type": "code",
      "source": [
        "import numpy as np"
      ],
      "metadata": {
        "id": "45RbGKGKzicj"
      },
      "execution_count": 34,
      "outputs": []
    },
    {
      "cell_type": "code",
      "source": [
        "arr = np.arange(0, 10, 1)\n",
        "print(arr)"
      ],
      "metadata": {
        "colab": {
          "base_uri": "https://localhost:8080/"
        },
        "id": "fAIGf6KnzlxG",
        "outputId": "74bb27ac-ff52-4dbe-ca80-208b4012e637"
      },
      "execution_count": null,
      "outputs": [
        {
          "output_type": "stream",
          "name": "stdout",
          "text": [
            "[0 1 2 3 4 5 6 7 8 9]\n"
          ]
        }
      ]
    },
    {
      "cell_type": "code",
      "source": [
        "arr = np.ones((3,3)) > 0\n",
        "print(arr)"
      ],
      "metadata": {
        "colab": {
          "base_uri": "https://localhost:8080/"
        },
        "id": "ulapLzxE0Au1",
        "outputId": "3100e2dc-c408-4d20-ab0a-30f75a477dfa"
      },
      "execution_count": null,
      "outputs": [
        {
          "output_type": "stream",
          "name": "stdout",
          "text": [
            "[[ True  True  True]\n",
            " [ True  True  True]\n",
            " [ True  True  True]]\n"
          ]
        }
      ]
    },
    {
      "cell_type": "code",
      "source": [
        "arr = np.ones((3,3), bool)\n",
        "print(arr)"
      ],
      "metadata": {
        "colab": {
          "base_uri": "https://localhost:8080/"
        },
        "id": "to_a0NRN0TQ2",
        "outputId": "34e00380-ef98-489b-aab1-b956998526c6"
      },
      "execution_count": null,
      "outputs": [
        {
          "output_type": "stream",
          "name": "stdout",
          "text": [
            "[[ True  True  True]\n",
            " [ True  True  True]\n",
            " [ True  True  True]]\n"
          ]
        }
      ]
    },
    {
      "cell_type": "code",
      "source": [
        "arr = np.full((3,3), True, bool)\n",
        "print(arr)"
      ],
      "metadata": {
        "colab": {
          "base_uri": "https://localhost:8080/"
        },
        "id": "6BzxGIJB0c0n",
        "outputId": "4cf68920-51b0-45c4-e88c-64cc910a746d"
      },
      "execution_count": null,
      "outputs": [
        {
          "output_type": "stream",
          "name": "stdout",
          "text": [
            "[[ True  True  True]\n",
            " [ True  True  True]\n",
            " [ True  True  True]]\n"
          ]
        }
      ]
    },
    {
      "cell_type": "code",
      "source": [
        "arr = np.arange(0,10)\n",
        "arr1 = arr%2 == 1\n",
        "print(arr)\n",
        "print(arr1)\n",
        "print(arr[arr1])"
      ],
      "metadata": {
        "colab": {
          "base_uri": "https://localhost:8080/"
        },
        "id": "pqzeS6OH2nRs",
        "outputId": "7492c8ad-ea51-4496-b0f8-08d0645584d9"
      },
      "execution_count": null,
      "outputs": [
        {
          "output_type": "stream",
          "name": "stdout",
          "text": [
            "[0 1 2 3 4 5 6 7 8 9]\n",
            "[False  True False  True False  True False  True False  True]\n",
            "[1 3 5 7 9]\n"
          ]
        }
      ]
    },
    {
      "cell_type": "code",
      "source": [
        "arr = np.arange(0,10)\n",
        "arr1 = arr%2 == 1\n",
        "arr[arr1] = -1\n",
        "print(arr)"
      ],
      "metadata": {
        "colab": {
          "base_uri": "https://localhost:8080/"
        },
        "id": "-S_4qMdo6LJZ",
        "outputId": "79d0842a-ccb4-44a2-9fb8-b5c86f2cfe36"
      },
      "execution_count": null,
      "outputs": [
        {
          "output_type": "stream",
          "name": "stdout",
          "text": [
            "[ 0 -1  2 -1  4 -1  6 -1  8 -1]\n"
          ]
        }
      ]
    },
    {
      "cell_type": "code",
      "source": [
        "arr = np.arange(10)\n",
        "arr_2d = arr.reshape(2,-1)\n",
        "print(arr_2d)"
      ],
      "metadata": {
        "colab": {
          "base_uri": "https://localhost:8080/"
        },
        "id": "3pNUDCb_toA3",
        "outputId": "452306d0-8325-4b2a-f39b-8667fcfc6346"
      },
      "execution_count": null,
      "outputs": [
        {
          "output_type": "stream",
          "name": "stdout",
          "text": [
            "[[0 1 2 3 4]\n",
            " [5 6 7 8 9]]\n"
          ]
        }
      ]
    },
    {
      "cell_type": "code",
      "source": [
        "arr1 = np.arange(10).reshape(2,-1)\n",
        "arr2 = np.repeat(1, 10).reshape(2,-1)\n",
        "c = np.concatenate([arr1,arr2], axis=1)\n",
        "print(c)"
      ],
      "metadata": {
        "colab": {
          "base_uri": "https://localhost:8080/"
        },
        "id": "As3t9xX1uGI2",
        "outputId": "7bdd176c-7051-4917-d11e-ca9229b2d28a"
      },
      "execution_count": null,
      "outputs": [
        {
          "output_type": "stream",
          "name": "stdout",
          "text": [
            "[[0 1 2 3 4 1 1 1 1 1]\n",
            " [5 6 7 8 9 1 1 1 1 1]]\n"
          ]
        }
      ]
    },
    {
      "cell_type": "code",
      "source": [
        "arr = np.array([1 ,2 ,3])\n",
        "print(np.repeat(arr ,3))\n",
        "print(np.tile(arr ,3))\n"
      ],
      "metadata": {
        "colab": {
          "base_uri": "https://localhost:8080/"
        },
        "id": "ypWtnFD80eM_",
        "outputId": "980cfb54-a479-4fbd-8d22-8f7f5416a0bd"
      },
      "execution_count": null,
      "outputs": [
        {
          "output_type": "stream",
          "name": "stdout",
          "text": [
            "[1 1 1 2 2 2 3 3 3]\n",
            "[1 2 3 1 2 3 1 2 3]\n"
          ]
        }
      ]
    },
    {
      "cell_type": "code",
      "source": [
        "def maxx (x , y ) :\n",
        "  if x >= y :\n",
        "    return x\n",
        "  else :\n",
        "    return y\n",
        "\n",
        "a = np.array([5 ,7 ,9 ,8 ,6 ,4 ,5])\n",
        "b = np.array([6 ,3 ,4 ,8 ,9 ,7 ,1])\n",
        "\n",
        "pair_max = np.vectorize( maxx , otypes =[ float ])\n",
        "print (pair_max(a , b ))\n"
      ],
      "metadata": {
        "colab": {
          "base_uri": "https://localhost:8080/"
        },
        "id": "wj0AGNORZ3Qe",
        "outputId": "070fb709-7315-4410-8203-b6e27d7e5465"
      },
      "execution_count": null,
      "outputs": [
        {
          "output_type": "stream",
          "name": "stdout",
          "text": [
            "[6. 7. 9. 8. 9. 7. 5.]\n"
          ]
        }
      ]
    },
    {
      "cell_type": "code",
      "source": [
        "a = np.array ([5 ,7 ,9 ,8 ,6 ,4 ,5])\n",
        "b = np.array ([6 ,3 ,4 ,8 ,9 ,7 ,1])\n",
        "\n",
        "print(\"Result \", np.where(a <b , b , a ))\n"
      ],
      "metadata": {
        "colab": {
          "base_uri": "https://localhost:8080/"
        },
        "id": "4Iklwz3XBjOM",
        "outputId": "f3ef814e-bad3-487c-a98c-4f1812961f08"
      },
      "execution_count": 3,
      "outputs": [
        {
          "output_type": "stream",
          "name": "stdout",
          "text": [
            "Result  [6 7 9 8 9 7 5]\n"
          ]
        }
      ]
    },
    {
      "cell_type": "markdown",
      "source": [
        "##Image Processing"
      ],
      "metadata": {
        "id": "7NQvZZT_B9u6"
      }
    },
    {
      "cell_type": "code",
      "source": [
        "!gdown 1i9dqan21DjQoG5Q_VEvm0LrVwAlXD0vB"
      ],
      "metadata": {
        "colab": {
          "base_uri": "https://localhost:8080/"
        },
        "id": "beEzTzXGCLSF",
        "outputId": "c6d421b1-8817-464d-87df-631331d11648"
      },
      "execution_count": 4,
      "outputs": [
        {
          "output_type": "stream",
          "name": "stdout",
          "text": [
            "Downloading...\n",
            "From: https://drive.google.com/uc?id=1i9dqan21DjQoG5Q_VEvm0LrVwAlXD0vB\n",
            "To: /content/dog.jpeg\n",
            "\r  0% 0.00/33.7k [00:00<?, ?B/s]\r100% 33.7k/33.7k [00:00<00:00, 78.9MB/s]\n"
          ]
        }
      ]
    },
    {
      "cell_type": "code",
      "source": [
        "def lightness_func(vector):\n",
        "    return np.max(vector)*0.5 +np.min(vector)*0.5\n",
        "\n",
        "def average_func(vector):\n",
        "    return np.average(vector)\n",
        "\n",
        "def luminosity_func(vector):\n",
        "    return vector[0]*0.21 + vector[1]*0.72 + vector[2]*0.07"
      ],
      "metadata": {
        "id": "X3Shz7xxHcgy"
      },
      "execution_count": 24,
      "outputs": []
    },
    {
      "cell_type": "code",
      "source": [
        "import matplotlib.image as mpimg\n",
        "img = mpimg.imread ('/content/dog.jpeg')\n",
        "gray_img_01 = np.apply_along_axis(lightness_func, axis=2, arr=img)\n",
        "print(gray_img_01)\n",
        "print(gray_img_01[0,0])"
      ],
      "metadata": {
        "colab": {
          "base_uri": "https://localhost:8080/"
        },
        "id": "qQtg1IijCeXS",
        "outputId": "e3cf8e03-4c73-4869-8c62-84623d091597"
      },
      "execution_count": 20,
      "outputs": [
        {
          "output_type": "stream",
          "name": "stdout",
          "text": [
            "[[102.5  73.5  66.5 ... 156.  156.  156. ]\n",
            " [103.5  73.5  67.5 ... 155.5 156.  155.5]\n",
            " [103.5  74.5  67.5 ... 155.  154.5 154. ]\n",
            " ...\n",
            " [124.5 104.5  97.  ... 117.  114.  112. ]\n",
            " [117.5  97.5  90.5 ... 117.  114.  112.5]\n",
            " [115.5  95.5  87.5 ... 119.  116.  114.5]]\n",
            "102.5\n"
          ]
        }
      ]
    },
    {
      "cell_type": "code",
      "source": [
        "gray_img_02 = np.apply_along_axis(average_func, axis=2, arr=img)\n",
        "print(gray_img_02)\n",
        "print(gray_img_02[0,0])"
      ],
      "metadata": {
        "colab": {
          "base_uri": "https://localhost:8080/"
        },
        "id": "n6x9saugDvIS",
        "outputId": "7070f02a-f49d-466c-fe50-255a87a4f1da"
      },
      "execution_count": 25,
      "outputs": [
        {
          "output_type": "stream",
          "name": "stdout",
          "text": [
            "[[107.66666667  78.66666667  71.66666667 ... 154.33333333 154.33333333\n",
            "  154.33333333]\n",
            " [108.66666667  78.66666667  72.66666667 ... 154.         154.33333333\n",
            "  154.        ]\n",
            " [108.66666667  79.66666667  72.66666667 ... 153.66666667 153.\n",
            "  152.66666667]\n",
            " ...\n",
            " [131.33333333 111.66666667 104.33333333 ... 116.66666667 113.66666667\n",
            "  111.33333333]\n",
            " [124.33333333 104.66666667  97.66666667 ... 116.66666667 113.66666667\n",
            "  111.66666667]\n",
            " [122.33333333 102.66666667  94.66666667 ... 118.33333333 115.33333333\n",
            "  113.33333333]]\n",
            "107.66666666666667\n"
          ]
        }
      ]
    },
    {
      "cell_type": "code",
      "source": [
        "gray_img_03 = np.apply_along_axis(luminosity_func, axis=2, arr=img)\n",
        "print(gray_img_03)\n",
        "print(gray_img_03[0,0])"
      ],
      "metadata": {
        "colab": {
          "base_uri": "https://localhost:8080/"
        },
        "id": "7ovhp3lHJYdj",
        "outputId": "89251708-5cfd-4cce-f377-8b5dac9086cd"
      },
      "execution_count": 27,
      "outputs": [
        {
          "output_type": "stream",
          "name": "stdout",
          "text": [
            "[[126.23  97.23  90.23 ... 159.5  159.5  159.5 ]\n",
            " [127.23  97.23  91.23 ... 160.08 159.5  160.08]\n",
            " [127.23  98.23  91.23 ... 160.01 159.08 159.01]\n",
            " ...\n",
            " [148.63 129.49 124.37 ... 139.54 136.54 134.33]\n",
            " [141.63 122.49 117.44 ... 138.89 135.89 134.4 ]\n",
            " [139.63 120.49 114.44 ... 140.03 137.03 135.54]]\n",
            "126.22999999999999\n"
          ]
        }
      ]
    },
    {
      "cell_type": "markdown",
      "source": [
        "##Data table Analyst"
      ],
      "metadata": {
        "id": "O2tBTVNAJ8I0"
      }
    },
    {
      "cell_type": "code",
      "source": [
        "!gdown 1iA0WmVfW88HyJvTBSQDI5vesf-pgKabq"
      ],
      "metadata": {
        "colab": {
          "base_uri": "https://localhost:8080/"
        },
        "id": "WGi-Irl1J_d0",
        "outputId": "3d40e329-5692-4899-acf8-98ba637c3bab"
      },
      "execution_count": 28,
      "outputs": [
        {
          "output_type": "stream",
          "name": "stdout",
          "text": [
            "Downloading...\n",
            "From: https://drive.google.com/uc?id=1iA0WmVfW88HyJvTBSQDI5vesf-pgKabq\n",
            "To: /content/advertising.csv\n",
            "\r  0% 0.00/4.06k [00:00<?, ?B/s]\r100% 4.06k/4.06k [00:00<00:00, 18.1MB/s]\n"
          ]
        }
      ]
    },
    {
      "cell_type": "code",
      "source": [
        "import pandas as pd\n",
        "df = pd.read_csv('/content/advertising.csv')\n",
        "\n",
        "data = df.to_numpy()\n",
        "print(data)"
      ],
      "metadata": {
        "colab": {
          "base_uri": "https://localhost:8080/"
        },
        "id": "rXjepKH0KD6H",
        "outputId": "6a68199c-5bbb-4d92-b149-a58154e19893"
      },
      "execution_count": 30,
      "outputs": [
        {
          "output_type": "stream",
          "name": "stdout",
          "text": [
            "[[230.1  37.8  69.2  22.1]\n",
            " [ 44.5  39.3  45.1  10.4]\n",
            " [ 17.2  45.9  69.3  12. ]\n",
            " [151.5  41.3  58.5  16.5]\n",
            " [180.8  10.8  58.4  17.9]\n",
            " [  8.7  48.9  75.    7.2]\n",
            " [ 57.5  32.8  23.5  11.8]\n",
            " [120.2  19.6  11.6  13.2]\n",
            " [  8.6   2.1   1.    4.8]\n",
            " [199.8   2.6  21.2  15.6]\n",
            " [ 66.1   5.8  24.2  12.6]\n",
            " [214.7  24.    4.   17.4]\n",
            " [ 23.8  35.1  65.9   9.2]\n",
            " [ 97.5   7.6   7.2  13.7]\n",
            " [204.1  32.9  46.   19. ]\n",
            " [195.4  47.7  52.9  22.4]\n",
            " [ 67.8  36.6 114.   12.5]\n",
            " [281.4  39.6  55.8  24.4]\n",
            " [ 69.2  20.5  18.3  11.3]\n",
            " [147.3  23.9  19.1  14.6]\n",
            " [218.4  27.7  53.4  18. ]\n",
            " [237.4   5.1  23.5  17.5]\n",
            " [ 13.2  15.9  49.6   5.6]\n",
            " [228.3  16.9  26.2  20.5]\n",
            " [ 62.3  12.6  18.3   9.7]\n",
            " [262.9   3.5  19.5  17. ]\n",
            " [142.9  29.3  12.6  15. ]\n",
            " [240.1  16.7  22.9  20.9]\n",
            " [248.8  27.1  22.9  18.9]\n",
            " [ 70.6  16.   40.8  10.5]\n",
            " [292.9  28.3  43.2  21.4]\n",
            " [112.9  17.4  38.6  11.9]\n",
            " [ 97.2   1.5  30.   13.2]\n",
            " [265.6  20.    0.3  17.4]\n",
            " [ 95.7   1.4   7.4  11.9]\n",
            " [290.7   4.1   8.5  17.8]\n",
            " [266.9  43.8   5.   25.4]\n",
            " [ 74.7  49.4  45.7  14.7]\n",
            " [ 43.1  26.7  35.1  10.1]\n",
            " [228.   37.7  32.   21.5]\n",
            " [202.5  22.3  31.6  16.6]\n",
            " [177.   33.4  38.7  17.1]\n",
            " [293.6  27.7   1.8  20.7]\n",
            " [206.9   8.4  26.4  17.9]\n",
            " [ 25.1  25.7  43.3   8.5]\n",
            " [175.1  22.5  31.5  16.1]\n",
            " [ 89.7   9.9  35.7  10.6]\n",
            " [239.9  41.5  18.5  23.2]\n",
            " [227.2  15.8  49.9  19.8]\n",
            " [ 66.9  11.7  36.8   9.7]\n",
            " [199.8   3.1  34.6  16.4]\n",
            " [100.4   9.6   3.6  10.7]\n",
            " [216.4  41.7  39.6  22.6]\n",
            " [182.6  46.2  58.7  21.2]\n",
            " [262.7  28.8  15.9  20.2]\n",
            " [198.9  49.4  60.   23.7]\n",
            " [  7.3  28.1  41.4   5.5]\n",
            " [136.2  19.2  16.6  13.2]\n",
            " [210.8  49.6  37.7  23.8]\n",
            " [210.7  29.5   9.3  18.4]\n",
            " [ 53.5   2.   21.4   8.1]\n",
            " [261.3  42.7  54.7  24.2]\n",
            " [239.3  15.5  27.3  20.7]\n",
            " [102.7  29.6   8.4  14. ]\n",
            " [131.1  42.8  28.9  16. ]\n",
            " [ 69.    9.3   0.9  11.3]\n",
            " [ 31.5  24.6   2.2  11. ]\n",
            " [139.3  14.5  10.2  13.4]\n",
            " [237.4  27.5  11.   18.9]\n",
            " [216.8  43.9  27.2  22.3]\n",
            " [199.1  30.6  38.7  18.3]\n",
            " [109.8  14.3  31.7  12.4]\n",
            " [ 26.8  33.   19.3   8.8]\n",
            " [129.4   5.7  31.3  11. ]\n",
            " [213.4  24.6  13.1  17. ]\n",
            " [ 16.9  43.7  89.4   8.7]\n",
            " [ 27.5   1.6  20.7   6.9]\n",
            " [120.5  28.5  14.2  14.2]\n",
            " [  5.4  29.9   9.4   5.3]\n",
            " [116.    7.7  23.1  11. ]\n",
            " [ 76.4  26.7  22.3  11.8]\n",
            " [239.8   4.1  36.9  17.3]\n",
            " [ 75.3  20.3  32.5  11.3]\n",
            " [ 68.4  44.5  35.6  13.6]\n",
            " [213.5  43.   33.8  21.7]\n",
            " [193.2  18.4  65.7  20.2]\n",
            " [ 76.3  27.5  16.   12. ]\n",
            " [110.7  40.6  63.2  16. ]\n",
            " [ 88.3  25.5  73.4  12.9]\n",
            " [109.8  47.8  51.4  16.7]\n",
            " [134.3   4.9   9.3  14. ]\n",
            " [ 28.6   1.5  33.    7.3]\n",
            " [217.7  33.5  59.   19.4]\n",
            " [250.9  36.5  72.3  22.2]\n",
            " [107.4  14.   10.9  11.5]\n",
            " [163.3  31.6  52.9  16.9]\n",
            " [197.6   3.5   5.9  16.7]\n",
            " [184.9  21.   22.   20.5]\n",
            " [289.7  42.3  51.2  25.4]\n",
            " [135.2  41.7  45.9  17.2]\n",
            " [222.4   4.3  49.8  16.7]\n",
            " [296.4  36.3 100.9  23.8]\n",
            " [280.2  10.1  21.4  19.8]\n",
            " [187.9  17.2  17.9  19.7]\n",
            " [238.2  34.3   5.3  20.7]\n",
            " [137.9  46.4  59.   15. ]\n",
            " [ 25.   11.   29.7   7.2]\n",
            " [ 90.4   0.3  23.2  12. ]\n",
            " [ 13.1   0.4  25.6   5.3]\n",
            " [255.4  26.9   5.5  19.8]\n",
            " [225.8   8.2  56.5  18.4]\n",
            " [241.7  38.   23.2  21.8]\n",
            " [175.7  15.4   2.4  17.1]\n",
            " [209.6  20.6  10.7  20.9]\n",
            " [ 78.2  46.8  34.5  14.6]\n",
            " [ 75.1  35.   52.7  12.6]\n",
            " [139.2  14.3  25.6  12.2]\n",
            " [ 76.4   0.8  14.8   9.4]\n",
            " [125.7  36.9  79.2  15.9]\n",
            " [ 19.4  16.   22.3   6.6]\n",
            " [141.3  26.8  46.2  15.5]\n",
            " [ 18.8  21.7  50.4   7. ]\n",
            " [224.    2.4  15.6  16.6]\n",
            " [123.1  34.6  12.4  15.2]\n",
            " [229.5  32.3  74.2  19.7]\n",
            " [ 87.2  11.8  25.9  10.6]\n",
            " [  7.8  38.9  50.6   6.6]\n",
            " [ 80.2   0.    9.2  11.9]\n",
            " [220.3  49.    3.2  24.7]\n",
            " [ 59.6  12.   43.1   9.7]\n",
            " [  0.7  39.6   8.7   1.6]\n",
            " [265.2   2.9  43.   17.7]\n",
            " [  8.4  27.2   2.1   5.7]\n",
            " [219.8  33.5  45.1  19.6]\n",
            " [ 36.9  38.6  65.6  10.8]\n",
            " [ 48.3  47.    8.5  11.6]\n",
            " [ 25.6  39.    9.3   9.5]\n",
            " [273.7  28.9  59.7  20.8]\n",
            " [ 43.   25.9  20.5   9.6]\n",
            " [184.9  43.9   1.7  20.7]\n",
            " [ 73.4  17.   12.9  10.9]\n",
            " [193.7  35.4  75.6  19.2]\n",
            " [220.5  33.2  37.9  20.1]\n",
            " [104.6   5.7  34.4  10.4]\n",
            " [ 96.2  14.8  38.9  12.3]\n",
            " [140.3   1.9   9.   10.3]\n",
            " [240.1   7.3   8.7  18.2]\n",
            " [243.2  49.   44.3  25.4]\n",
            " [ 38.   40.3  11.9  10.9]\n",
            " [ 44.7  25.8  20.6  10.1]\n",
            " [280.7  13.9  37.   16.1]\n",
            " [121.    8.4  48.7  11.6]\n",
            " [197.6  23.3  14.2  16.6]\n",
            " [171.3  39.7  37.7  16. ]\n",
            " [187.8  21.1   9.5  20.6]\n",
            " [  4.1  11.6   5.7   3.2]\n",
            " [ 93.9  43.5  50.5  15.3]\n",
            " [149.8   1.3  24.3  10.1]\n",
            " [ 11.7  36.9  45.2   7.3]\n",
            " [131.7  18.4  34.6  12.9]\n",
            " [172.5  18.1  30.7  16.4]\n",
            " [ 85.7  35.8  49.3  13.3]\n",
            " [188.4  18.1  25.6  19.9]\n",
            " [163.5  36.8   7.4  18. ]\n",
            " [117.2  14.7   5.4  11.9]\n",
            " [234.5   3.4  84.8  16.9]\n",
            " [ 17.9  37.6  21.6   8. ]\n",
            " [206.8   5.2  19.4  17.2]\n",
            " [215.4  23.6  57.6  17.1]\n",
            " [284.3  10.6   6.4  20. ]\n",
            " [ 50.   11.6  18.4   8.4]\n",
            " [164.5  20.9  47.4  17.5]\n",
            " [ 19.6  20.1  17.    7.6]\n",
            " [168.4   7.1  12.8  16.7]\n",
            " [222.4   3.4  13.1  16.5]\n",
            " [276.9  48.9  41.8  27. ]\n",
            " [248.4  30.2  20.3  20.2]\n",
            " [170.2   7.8  35.2  16.7]\n",
            " [276.7   2.3  23.7  16.8]\n",
            " [165.6  10.   17.6  17.6]\n",
            " [156.6   2.6   8.3  15.5]\n",
            " [218.5   5.4  27.4  17.2]\n",
            " [ 56.2   5.7  29.7   8.7]\n",
            " [287.6  43.   71.8  26.2]\n",
            " [253.8  21.3  30.   17.6]\n",
            " [205.   45.1  19.6  22.6]\n",
            " [139.5   2.1  26.6  10.3]\n",
            " [191.1  28.7  18.2  17.3]\n",
            " [286.   13.9   3.7  20.9]\n",
            " [ 18.7  12.1  23.4   6.7]\n",
            " [ 39.5  41.1   5.8  10.8]\n",
            " [ 75.5  10.8   6.   11.9]\n",
            " [ 17.2   4.1  31.6   5.9]\n",
            " [166.8  42.    3.6  19.6]\n",
            " [149.7  35.6   6.   17.3]\n",
            " [ 38.2   3.7  13.8   7.6]\n",
            " [ 94.2   4.9   8.1  14. ]\n",
            " [177.    9.3   6.4  14.8]\n",
            " [283.6  42.   66.2  25.5]\n",
            " [232.1   8.6   8.7  18.4]]\n"
          ]
        }
      ]
    },
    {
      "cell_type": "code",
      "source": [
        "max = np.max(data[:,3])\n",
        "print(max)\n",
        "index = np.argmax(data[:,3])\n",
        "print(index)"
      ],
      "metadata": {
        "colab": {
          "base_uri": "https://localhost:8080/"
        },
        "id": "G11sNGGkKcLF",
        "outputId": "fbb7eec0-49d3-4f09-9341-74db236e87cc"
      },
      "execution_count": 45,
      "outputs": [
        {
          "output_type": "stream",
          "name": "stdout",
          "text": [
            "27.0\n",
            "175\n"
          ]
        }
      ]
    },
    {
      "cell_type": "code",
      "source": [
        "avgTV = np.average(data[:,0])\n",
        "print(avgTV)"
      ],
      "metadata": {
        "colab": {
          "base_uri": "https://localhost:8080/"
        },
        "id": "WatWyuofLAa3",
        "outputId": "3e22a462-a75f-4e20-aff8-195d978b1c6e"
      },
      "execution_count": 48,
      "outputs": [
        {
          "output_type": "stream",
          "name": "stdout",
          "text": [
            "147.0425\n"
          ]
        }
      ]
    },
    {
      "cell_type": "code",
      "source": [
        "index_sales = np.where(data[:,3] >= 20)\n",
        "print(index_sales[0])\n",
        "print(len(index_sales[0]))"
      ],
      "metadata": {
        "colab": {
          "base_uri": "https://localhost:8080/"
        },
        "id": "jL7KJ9GXY9ug",
        "outputId": "b0c9a2c6-e6fd-4931-bd5c-d453e83cd9eb"
      },
      "execution_count": 40,
      "outputs": [
        {
          "output_type": "stream",
          "name": "stdout",
          "text": [
            "[  0  15  17  23  27  30  36  39  42  47  52  53  54  55  58  61  62  69\n",
            "  84  85  93  97  98 101 104 111 113 128 137 139 142 147 154 169 175 176\n",
            " 183 185 188 198]\n",
            "40\n"
          ]
        }
      ]
    },
    {
      "cell_type": "code",
      "source": [
        "index_sales = np.where(data[:,3] >= 15)\n",
        "avg_radio = np.average(data[index_sales,1])\n",
        "print(avg_radio)"
      ],
      "metadata": {
        "colab": {
          "base_uri": "https://localhost:8080/"
        },
        "id": "9LzvIRnqZdzJ",
        "outputId": "5dbd4a9a-ba4f-4dea-c236-ecf4a65d010c"
      },
      "execution_count": 41,
      "outputs": [
        {
          "output_type": "stream",
          "name": "stdout",
          "text": [
            "26.22293577981651\n"
          ]
        }
      ]
    },
    {
      "cell_type": "code",
      "source": [
        "avg_news = np.average(data[:,2])\n",
        "index_news = np.where(data[:, 2] > avg_news)\n",
        "sum_sales = np.sum(data[index_news,3])\n",
        "print(sum_sales)"
      ],
      "metadata": {
        "colab": {
          "base_uri": "https://localhost:8080/"
        },
        "id": "5boLB1RLajnt",
        "outputId": "d31d82b0-b829-4355-e888-45dca215b289"
      },
      "execution_count": 42,
      "outputs": [
        {
          "output_type": "stream",
          "name": "stdout",
          "text": [
            "1405.1\n"
          ]
        }
      ]
    },
    {
      "cell_type": "code",
      "source": [
        "sales = data[:, 3]\n",
        "print(sales[130])\n",
        "avg_sales = sales.mean()\n",
        "scores = np.where(sales > avg_sales, 'Good', np.where(sales < avg_sales, 'Bad', 'Average'))\n",
        "print(scores[7:10])"
      ],
      "metadata": {
        "colab": {
          "base_uri": "https://localhost:8080/"
        },
        "id": "jlUBIgoVdJcf",
        "outputId": "28ba4ddc-a2e2-4d10-a8a2-22784d10fd51"
      },
      "execution_count": 58,
      "outputs": [
        {
          "output_type": "stream",
          "name": "stdout",
          "text": [
            "1.6\n",
            "['Bad' 'Bad' 'Good']\n"
          ]
        }
      ]
    },
    {
      "cell_type": "code",
      "source": [
        "sales = data[:, 3]\n",
        "avg_sales = sales.mean()\n",
        "avg_sub = sales - avg_sales\n",
        "abs_sub = np.abs(avg_sub)\n",
        "avg_idx = np.argmin(abs_sub)\n",
        "sales_avg = sales[avg_idx]\n",
        "print(sales_avg)\n",
        "scores = np.where(sales > sales_avg, 'Good', np.where(sales < sales_avg, 'Bad', 'Average'))\n",
        "print(scores[7:10])"
      ],
      "metadata": {
        "colab": {
          "base_uri": "https://localhost:8080/"
        },
        "id": "f9grO1C_eqzw",
        "outputId": "ca9ba0bc-3473-4f33-c308-3e37c90abac0"
      },
      "execution_count": 60,
      "outputs": [
        {
          "output_type": "stream",
          "name": "stdout",
          "text": [
            "15.2\n",
            "['Bad' 'Bad' 'Good']\n"
          ]
        }
      ]
    }
  ]
}